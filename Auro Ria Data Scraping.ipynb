{
 "cells": [
  {
   "cell_type": "code",
   "execution_count": 7,
   "id": "c4f3fa6d",
   "metadata": {},
   "outputs": [],
   "source": [
    "from bs4 import BeautifulSoup\n",
    "import requests"
   ]
  },
  {
   "cell_type": "code",
   "execution_count": 4,
   "id": "2e3ac46d",
   "metadata": {},
   "outputs": [],
   "source": [
    "resulting_list = []\n",
    "for i in range(1, 2200): #Scraping 2000+ pages\n",
    "    url = f'https://auto.ria.com/uk/search/?indexName=auto,order_auto,newauto_search&categories.main.id=1&country.import.usa.not=-1&price.currency=1&abroad.not=0&custom.not=1&page={i}&size=100'\n",
    "    page = requests.get(url)\n",
    "    soup = BeautifulSoup(page.text, 'lxml')\n",
    "\n",
    "\n",
    "    for car in soup.find_all('section', class_='ticket-item'): #For each page we scrape data and save it in \"resulting_list\"\n",
    "        car_info = dict()\n",
    "\n",
    "        name = car.find('div', class_='head-ticket').text\n",
    "        price = car.find('div', class_='price-ticket').text\n",
    "        city = car.find('div', class_='definition-data').find('li', class_='item-char view-location js-location').text\n",
    "        mileage = car.find('div', class_='definition-data').find_all('li', class_='item-char')[0].text\n",
    "        fuel = car.find('div', class_='definition-data').find_all('li', class_='item-char')[2].text\n",
    "        transmission = car.find('div', class_='definition-data').find_all('li', class_='item-char')[3].text\n",
    "        road_accident = car.find('div', class_='base_information')\n",
    "        link = car.find('div', class_='content-bar').find('a', class_='m-link-ticket').get('href')\n",
    "\n",
    "\n",
    "        car_info['name'] = name \n",
    "        car_info['price'] = price \n",
    "        car_info['city'] = city\n",
    "        car_info['mileage'] = mileage\n",
    "        car_info['fuel'] = fuel \n",
    "        car_info['transmission'] = transmission \n",
    "        \n",
    "        # Checking if there is an accident element\n",
    "        if road_accident and road_accident.find('span', class_='state _red'):\n",
    "            car_info['road_accident'] = road_accident.text #keep element\n",
    "        else:\n",
    "            car_info['road_accident'] = 'Не був у ДТП' #or write 'Не був у ДТП' if car wasn't is accident\n",
    "        \n",
    "        car_info['link'] = link \n",
    "        \n",
    "        resulting_list.append(car_info)\n"
   ]
  },
  {
   "cell_type": "code",
   "execution_count": 5,
   "id": "d37f2be3",
   "metadata": {},
   "outputs": [],
   "source": [
    "import csv\n",
    "\n",
    "# We save our \"resulting_list\" as a csv file\n",
    "with open('C:\\\\Users\\\\user\\\\Downloads\\\\auto_ria.csv', 'w', newline='', encoding='utf-8') as file:\n",
    "    column_names=['name', 'price', 'city', 'mileage', 'fuel', 'transmission', 'road_accident', 'link']\n",
    "    writer = csv.DictWriter(file, fieldnames = column_names)\n",
    "    writer.writeheader()\n",
    "    writer.writerows(resulting_list)"
   ]
  },
  {
   "cell_type": "code",
   "execution_count": null,
   "id": "c938d6c4",
   "metadata": {},
   "outputs": [],
   "source": []
  },
  {
   "cell_type": "code",
   "execution_count": null,
   "id": "84fe60fe",
   "metadata": {},
   "outputs": [],
   "source": []
  }
 ],
 "metadata": {
  "kernelspec": {
   "display_name": "Python 3 (ipykernel)",
   "language": "python",
   "name": "python3"
  },
  "language_info": {
   "codemirror_mode": {
    "name": "ipython",
    "version": 3
   },
   "file_extension": ".py",
   "mimetype": "text/x-python",
   "name": "python",
   "nbconvert_exporter": "python",
   "pygments_lexer": "ipython3",
   "version": "3.11.3"
  }
 },
 "nbformat": 4,
 "nbformat_minor": 5
}
